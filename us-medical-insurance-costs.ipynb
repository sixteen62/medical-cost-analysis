{
 "cells": [
  {
   "cell_type": "markdown",
   "metadata": {},
   "source": [
    "# U.S. Medical Insurance Costs"
   ]
  },
  {
   "cell_type": "markdown",
   "metadata": {},
   "source": [
    "# Basic Queries\n",
    "- Find out the average age of the patients in the dataset.\n",
    "- Analyze where a majority of the individuals are from.\n",
    "- Figure out what the average age is for someone who has at least one child in this dataset."
   ]
  },
  {
   "cell_type": "code",
   "execution_count": null,
   "metadata": {},
   "outputs": [],
   "source": []
  },
  {
   "cell_type": "code",
   "execution_count": 1,
   "metadata": {},
   "outputs": [],
   "source": [
    "# US Medical Insurance Cost\n",
    "import csv"
   ]
  },
  {
   "cell_type": "code",
   "execution_count": 2,
   "metadata": {},
   "outputs": [],
   "source": [
    "ages = []\n",
    "with open('insurance.csv') as average_age_file:\n",
    "    average_age = csv.DictReader(average_age_file)\n",
    "    for row in average_age:\n",
    "        ages.append(row['age'])"
   ]
  },
  {
   "cell_type": "code",
   "execution_count": 3,
   "metadata": {},
   "outputs": [
    {
     "name": "stdout",
     "output_type": "stream",
     "text": [
      "1338\n"
     ]
    }
   ],
   "source": [
    "print(len(ages))"
   ]
  },
  {
   "cell_type": "markdown",
   "metadata": {},
   "source": [
    "# Getting the average age of the group"
   ]
  },
  {
   "cell_type": "code",
   "execution_count": 4,
   "metadata": {},
   "outputs": [],
   "source": [
    "total_age = 0\n",
    "for age in ages:\n",
    "    total_age = total_age + float(age)"
   ]
  },
  {
   "cell_type": "code",
   "execution_count": 5,
   "metadata": {},
   "outputs": [
    {
     "name": "stdout",
     "output_type": "stream",
     "text": [
      "52459.0\n"
     ]
    }
   ],
   "source": [
    "print(total_age)"
   ]
  },
  {
   "cell_type": "code",
   "execution_count": 6,
   "metadata": {},
   "outputs": [
    {
     "name": "stdout",
     "output_type": "stream",
     "text": [
      "39.20702541106129\n"
     ]
    }
   ],
   "source": [
    "# now lets get the average\n",
    "average = total_age / len(ages)\n",
    "print(average)"
   ]
  },
  {
   "cell_type": "markdown",
   "metadata": {},
   "source": [
    "The average age of the group is 39.2 years"
   ]
  },
  {
   "cell_type": "markdown",
   "metadata": {},
   "source": [
    "# Finding out where the majority of the individuals are from."
   ]
  },
  {
   "cell_type": "code",
   "execution_count": 7,
   "metadata": {},
   "outputs": [],
   "source": [
    "# creating a regions list \n",
    "regions = []\n",
    "with open('insurance.csv') as regions_file:\n",
    "    region_reader = csv.DictReader(regions_file)\n",
    "    for row in region_reader:\n",
    "        regions.append(row['region'])"
   ]
  },
  {
   "cell_type": "code",
   "execution_count": 8,
   "metadata": {},
   "outputs": [
    {
     "name": "stdout",
     "output_type": "stream",
     "text": [
      "There are 325 from the southwest region.\n",
      "There are 364 from the southeast region.\n",
      "There are 325 from the northwest region.\n",
      "There are 324 from the southeast region.\n"
     ]
    }
   ],
   "source": [
    "# creating 4 list for the 4 regions\n",
    "s_west = []\n",
    "s_east = []\n",
    "n_west = []\n",
    "n_east = []\n",
    "for region in regions:\n",
    "    if region == 'southwest':\n",
    "        s_west.append(region)\n",
    "    elif region == 'southeast':\n",
    "        s_east.append(region)\n",
    "    elif region == 'northwest':\n",
    "        n_west.append(region)\n",
    "    else:\n",
    "        n_east.append(region)\n",
    "        \n",
    "print(\"There are \" + str(len(s_west)) + \" from the southwest region.\")\n",
    "print(\"There are \" + str(len(s_east)) + \" from the southeast region.\")\n",
    "print(\"There are \" + str(len(n_west)) + \" from the northwest region.\")\n",
    "print(\"There are \" + str(len(n_east)) + \" from the southeast region.\")"
   ]
  },
  {
   "cell_type": "markdown",
   "metadata": {},
   "source": [
    "# Investigating the average age of someone with at least 1 child"
   ]
  },
  {
   "cell_type": "code",
   "execution_count": 9,
   "metadata": {},
   "outputs": [],
   "source": [
    "# finding out the average age of someone with atleast a child\n",
    "adultAges = []\n",
    "no_of_children = []\n",
    "with open('insurance.csv') as age_for_ppl_with_kids_file:\n",
    "    their_avg_age = csv.DictReader(age_for_ppl_with_kids_file)\n",
    "    for row in their_avg_age:\n",
    "        adultAges.append(row['age'])\n",
    "        no_of_children.append(row['children'])\n"
   ]
  },
  {
   "cell_type": "code",
   "execution_count": 10,
   "metadata": {},
   "outputs": [
    {
     "name": "stdout",
     "output_type": "stream",
     "text": [
      "Total age of people with one child and more 30392.0\n",
      "Total number of people with one child and more 764\n",
      "And the average age is: 39.78010471204188\n"
     ]
    }
   ],
   "source": [
    "age_and_no_of_children = list(zip(adultAges, no_of_children))\n",
    "# print(age_and_no_of_children)\n",
    "tot = 0\n",
    "count = 0\n",
    "for num in age_and_no_of_children:\n",
    "    if float(num[1]) >= 1:\n",
    "        tot += float(num[0])\n",
    "        count += 1\n",
    "print('Total age of people with one child and more '+ str(tot))\n",
    "print('Total number of people with one child and more '+ str(count))\n",
    "# getting the average age\n",
    "average_age = tot / count\n",
    "print('And the average age is: ' + str(average_age))"
   ]
  },
  {
   "cell_type": "markdown",
   "metadata": {},
   "source": [
    "# Below is a function to get the youngest and the oldest in the group."
   ]
  },
  {
   "cell_type": "code",
   "execution_count": 31,
   "metadata": {},
   "outputs": [
    {
     "name": "stdout",
     "output_type": "stream",
     "text": [
      "The youngest in this group is 18.0 years old and the oldest is 64.0 years old.\n"
     ]
    }
   ],
   "source": [
    "# Getting the youngest and the oldest\n",
    "def youngest_and_oldest():\n",
    "    min_age = 100000.0\n",
    "    max_age = float(\"-inf\")\n",
    "    for age in ages:\n",
    "        if float(age) > max_age:\n",
    "            max_age = float(age)\n",
    "        if float(age) < min_age:\n",
    "            min_age = float(age)\n",
    "    return 'The youngest in this group is ' + str(min_age) + ' years old and the oldest is ' + str(max_age) + ' years old.' \n",
    "print(youngest_and_oldest())"
   ]
  },
  {
   "cell_type": "markdown",
   "metadata": {},
   "source": [
    "# Function to get the number of smokers and non-smokers."
   ]
  },
  {
   "cell_type": "code",
   "execution_count": 44,
   "metadata": {},
   "outputs": [
    {
     "name": "stdout",
     "output_type": "stream",
     "text": [
      "Smokers are 274 and non-smokers are 1064\n"
     ]
    }
   ],
   "source": [
    "# Difference of cost between smokers and non-smokers\n",
    "def smoker_and_non_smokers():\n",
    "    smoking = []\n",
    "    smokers = []\n",
    "    non_smokers = []\n",
    "    with open('insurance.csv') as lifestyle_file:\n",
    "        lifestyle = csv.DictReader(lifestyle_file)\n",
    "        for row in lifestyle:\n",
    "            smoking.append(row['smoker'])\n",
    "        for indv in smoking:\n",
    "            if indv == 'yes':\n",
    "                smokers.append(indv)\n",
    "            else:\n",
    "                non_smokers.append(indv)\n",
    "    return 'Smokers are '+ str(len(smokers))+ ' and non-smokers are ' + str(len(non_smokers))\n",
    "print(smoker_and_non_smokers())"
   ]
  },
  {
   "cell_type": "markdown",
   "metadata": {},
   "source": [
    "# Final comments.\n",
    "- There are 1338 individuals in the this dataset with an average group of 39 years old.\n",
    "- 764 people have a child or more and their average age is 39.7 years old.\n",
    "- The youngest person in this dataset is 18 years old and the oldest is 64 years old.\n",
    "- There are 274 smokers and 1,064 non-smokers in this dataset.\n",
    "- Most people in this dataset are from the southeast reagion with 364.\n",
    "\n",
    "- P.S. I know there's alot of repetition in this analysis(code wise) and I went for functionality rather than efficiency. Working on writing cleaner and more concise code. \n"
   ]
  },
  {
   "cell_type": "code",
   "execution_count": null,
   "metadata": {},
   "outputs": [],
   "source": []
  }
 ],
 "metadata": {
  "kernelspec": {
   "display_name": "Python 3",
   "language": "python",
   "name": "python3"
  },
  "language_info": {
   "codemirror_mode": {
    "name": "ipython",
    "version": 3
   },
   "file_extension": ".py",
   "mimetype": "text/x-python",
   "name": "python",
   "nbconvert_exporter": "python",
   "pygments_lexer": "ipython3",
   "version": "3.8.5"
  }
 },
 "nbformat": 4,
 "nbformat_minor": 4
}
